{
 "cells": [
  {
   "cell_type": "code",
   "execution_count": 2,
   "id": "55608f39",
   "metadata": {},
   "outputs": [
    {
     "name": "stdout",
     "output_type": "stream",
     "text": [
      "1.23.5\n"
     ]
    }
   ],
   "source": [
    "import numpy as np\n",
    "print(np.__version__)"
   ]
  },
  {
   "cell_type": "code",
   "execution_count": 3,
   "id": "66bca47a",
   "metadata": {},
   "outputs": [
    {
     "name": "stdout",
     "output_type": "stream",
     "text": [
      "[[[  1   2   3   4   5]\n",
      "  [ 10  20  30  40  50]]\n",
      "\n",
      " [[ 11  21  31  41  51]\n",
      "  [110 120 130 140 150]]]\n"
     ]
    }
   ],
   "source": [
    "lst=[[[1,2,3,4,5],[10,20,30,40,50]],[[11,21,31,41,51],[110,120,130,140,150]]]\n",
    "a=np.array(lst)\n",
    "print(a)"
   ]
  },
  {
   "cell_type": "code",
   "execution_count": 4,
   "id": "483cd75e",
   "metadata": {},
   "outputs": [
    {
     "name": "stdout",
     "output_type": "stream",
     "text": [
      "<class 'numpy.ndarray'>\n",
      "3\n",
      "20\n",
      "(2, 2, 5)\n",
      "4\n",
      "int32\n",
      "<memory at 0x00000189D4A0D4E0>\n"
     ]
    }
   ],
   "source": [
    "print(type(a))\n",
    "print(a.ndim)\n",
    "print(a.size)\n",
    "print(a.shape)\n",
    "print(a.itemsize)\n",
    "print(a.dtype)\n",
    "print(a.data)\n"
   ]
  },
  {
   "cell_type": "code",
   "execution_count": 5,
   "id": "120dd824",
   "metadata": {},
   "outputs": [
    {
     "name": "stdout",
     "output_type": "stream",
     "text": [
      "[0 0 0]\n"
     ]
    }
   ],
   "source": [
    "a= np.zeros(3,dtype=int)\n",
    "print(a)"
   ]
  },
  {
   "cell_type": "code",
   "execution_count": 6,
   "id": "2c1ed897",
   "metadata": {},
   "outputs": [
    {
     "name": "stdout",
     "output_type": "stream",
     "text": [
      "[[[0 0 0 0]\n",
      "  [0 0 0 0]\n",
      "  [0 0 0 0]\n",
      "  [0 0 0 0]\n",
      "  [0 0 0 0]]\n",
      "\n",
      " [[0 0 0 0]\n",
      "  [0 0 0 0]\n",
      "  [0 0 0 0]\n",
      "  [0 0 0 0]\n",
      "  [0 0 0 0]]]\n"
     ]
    }
   ],
   "source": [
    "\n",
    "a= np.zeros((2,5,4),dtype=int)\n",
    "print(a)\n"
   ]
  },
  {
   "cell_type": "code",
   "execution_count": 7,
   "id": "ada2f5c3",
   "metadata": {},
   "outputs": [
    {
     "name": "stdout",
     "output_type": "stream",
     "text": [
      "[[[4128860 6029375 3801155 5570652]\n",
      "  [6619251 7536754 4915292 5374017]\n",
      "  [4784212 6029387 7209057 6488161]\n",
      "  [7209071 6357092 6029363 6881388]\n",
      "  [6029410 6881395 6619252 7340077]]\n",
      "\n",
      " [[6488161 6357099 6619239 6029427]\n",
      "  [7667822 7340141 6029433 7274608]\n",
      "  [7929964 7274606 6881389 7077985]\n",
      "  [7340124 7077999 7209081 7143535]\n",
      "  [6357097 3014764 7929968 7340032]]]\n"
     ]
    }
   ],
   "source": [
    "a= np.empty((2,5,4),dtype=int)\n",
    "print(a)"
   ]
  },
  {
   "cell_type": "code",
   "execution_count": 8,
   "id": "d15c331e",
   "metadata": {},
   "outputs": [
    {
     "name": "stdout",
     "output_type": "stream",
     "text": [
      "[[[0 0 0 0]\n",
      "  [0 0 0 0]\n",
      "  [0 0 0 0]\n",
      "  [0 0 0 0]\n",
      "  [0 0 0 0]]\n",
      "\n",
      " [[0 0 0 0]\n",
      "  [0 0 0 0]\n",
      "  [0 0 0 0]\n",
      "  [0 0 0 0]\n",
      "  [0 0 0 0]]]\n"
     ]
    }
   ],
   "source": [
    "a= np.empty((2,5,4),dtype=int)\n",
    "print(a)"
   ]
  },
  {
   "cell_type": "code",
   "execution_count": 9,
   "id": "5f9ccb99",
   "metadata": {},
   "outputs": [
    {
     "name": "stdout",
     "output_type": "stream",
     "text": [
      "[[[4128860 6029375 3801155 5570652]\n",
      "  [6619251 7536754 4915292 5374017]\n",
      "  [4784212 6029387 7209057 6488161]\n",
      "  [7209071 6357092 6029363 6881388]\n",
      "  [6029410 6881395 6619252 7340077]]\n",
      "\n",
      " [[6488161 6357099 6619239 6029427]\n",
      "  [7667822 7340141 6029433 7274608]\n",
      "  [7929964 7274606 6881389 7077985]\n",
      "  [7340124 7077999 7209081 7143535]\n",
      "  [6357097 3014764 7929968 7340032]]]\n"
     ]
    }
   ],
   "source": [
    "a= np.empty((2,5,4),dtype=int)\n",
    "print(a)"
   ]
  },
  {
   "cell_type": "code",
   "execution_count": 10,
   "id": "1b71764a",
   "metadata": {},
   "outputs": [
    {
     "name": "stdout",
     "output_type": "stream",
     "text": [
      "[[1 0 0 0 0]\n",
      " [0 1 0 0 0]\n",
      " [0 0 1 0 0]\n",
      " [0 0 0 1 0]\n",
      " [0 0 0 0 1]]\n",
      "<class 'numpy.ndarray'>\n",
      "2\n",
      "25\n",
      "(5, 5)\n",
      "4\n",
      "int32\n",
      "<memory at 0x00000189D4170860>\n"
     ]
    }
   ],
   "source": [
    "a= np.identity(5,dtype=int)\n",
    "print(a)\n",
    "print(type(a))\n",
    "print(a.ndim)\n",
    "print(a.size)\n",
    "print(a.shape)\n",
    "print(a.itemsize)\n",
    "print(a.dtype)\n",
    "print(a.data)"
   ]
  },
  {
   "cell_type": "code",
   "execution_count": 11,
   "id": "e855eeea",
   "metadata": {},
   "outputs": [
    {
     "name": "stdout",
     "output_type": "stream",
     "text": [
      "[4 4 4 4 4]\n"
     ]
    }
   ],
   "source": [
    "\n",
    "a= np.full(5,4,dtype=int)\n",
    "print(a)\n"
   ]
  },
  {
   "cell_type": "code",
   "execution_count": 12,
   "id": "b0beac3b",
   "metadata": {},
   "outputs": [
    {
     "name": "stdout",
     "output_type": "stream",
     "text": [
      "[[4 4 4 4 4 4]\n",
      " [4 4 4 4 4 4]\n",
      " [4 4 4 4 4 4]\n",
      " [4 4 4 4 4 4]\n",
      " [4 4 4 4 4 4]]\n"
     ]
    }
   ],
   "source": [
    "\n",
    "a= np.full((5,6),4,dtype=int)\n",
    "print(a)\n"
   ]
  },
  {
   "cell_type": "code",
   "execution_count": 13,
   "id": "7393e2d7",
   "metadata": {},
   "outputs": [
    {
     "name": "stdout",
     "output_type": "stream",
     "text": [
      "[[[8 8 8]\n",
      "  [8 8 8]]\n",
      "\n",
      " [[8 8 8]\n",
      "  [8 8 8]]\n",
      "\n",
      " [[8 8 8]\n",
      "  [8 8 8]]\n",
      "\n",
      " [[8 8 8]\n",
      "  [8 8 8]]\n",
      "\n",
      " [[8 8 8]\n",
      "  [8 8 8]]]\n"
     ]
    }
   ],
   "source": [
    "a= np.full((5,2,3),8,dtype=int)\n",
    "print(a)"
   ]
  },
  {
   "cell_type": "code",
   "execution_count": 49,
   "id": "580a3204",
   "metadata": {},
   "outputs": [
    {
     "name": "stdout",
     "output_type": "stream",
     "text": [
      "[[1 0 0 0 0]\n",
      " [0 1 0 0 0]\n",
      " [0 0 1 0 0]\n",
      " [0 0 0 1 0]\n",
      " [0 0 0 0 1]]\n"
     ]
    }
   ],
   "source": [
    "a= np.eye(5,k=0,dtype=int)\n",
    "print(a)"
   ]
  },
  {
   "cell_type": "code",
   "execution_count": 15,
   "id": "c186420c",
   "metadata": {},
   "outputs": [
    {
     "name": "stdout",
     "output_type": "stream",
     "text": [
      "[[0 0 0 0]\n",
      " [1 0 0 0]\n",
      " [0 1 0 0]\n",
      " [0 0 1 0]\n",
      " [0 0 0 1]]\n"
     ]
    }
   ],
   "source": [
    "\n",
    "\n",
    "a= np.eye(5,4,k=-1,dtype=int)\n",
    "print(a)\n"
   ]
  },
  {
   "cell_type": "code",
   "execution_count": 16,
   "id": "98d5b491",
   "metadata": {},
   "outputs": [
    {
     "name": "stdout",
     "output_type": "stream",
     "text": [
      "[[0.62383236 0.62958136 0.16753704]\n",
      " [0.1550628  0.73208934 0.08868597]\n",
      " [0.71764478 0.58905894 0.99373721]\n",
      " [0.97500454 0.44862673 0.26519071]\n",
      " [0.51644744 0.65637852 0.776246  ]]\n"
     ]
    }
   ],
   "source": [
    "a= np.random.random((5,3))\n",
    "print(a)\n"
   ]
  },
  {
   "cell_type": "code",
   "execution_count": 17,
   "id": "80e5918e",
   "metadata": {},
   "outputs": [
    {
     "name": "stdout",
     "output_type": "stream",
     "text": [
      "[8 2 7 2 8]\n"
     ]
    }
   ],
   "source": [
    "a= np.random.randint(1,10,5)\n",
    "print(a)"
   ]
  },
  {
   "cell_type": "code",
   "execution_count": 18,
   "id": "16cfb0c7",
   "metadata": {},
   "outputs": [
    {
     "name": "stdout",
     "output_type": "stream",
     "text": [
      "[[5 5 3 8 5]\n",
      " [6 6 2 2 5]]\n"
     ]
    }
   ],
   "source": [
    "a= np.random.randint(1,10,(2,5))\n",
    "print(a)\n"
   ]
  },
  {
   "cell_type": "code",
   "execution_count": 19,
   "id": "bc00ce73",
   "metadata": {},
   "outputs": [
    {
     "name": "stdout",
     "output_type": "stream",
     "text": [
      "[[[17 13 18  7  2  3]\n",
      "  [10 17  1  3  5 12]\n",
      "  [ 2  8  5  7 10  2]\n",
      "  [12  9  6 17  4  7]\n",
      "  [ 4  8  8  3  6  2]]\n",
      "\n",
      " [[ 8 12  6  5 12 10]\n",
      "  [ 7 19 16 11  2  3]\n",
      "  [ 9  6  4 13 10  1]\n",
      "  [13 19 18 12  3 10]\n",
      "  [ 7 11 19  3  7  5]]]\n"
     ]
    }
   ],
   "source": [
    "a= np.random.randint(1,20,(2,5,6))\n",
    "print(a)\n"
   ]
  },
  {
   "cell_type": "code",
   "execution_count": 20,
   "id": "686c9462",
   "metadata": {},
   "outputs": [
    {
     "name": "stdout",
     "output_type": "stream",
     "text": [
      "[[[17 13 18  7  2  3]\n",
      "  [10 17  1  3  5 12]\n",
      "  [ 2  8  5  7 10  2]\n",
      "  [12  9  6 17  4  7]\n",
      "  [ 4  8  8  3  6  2]]\n",
      "\n",
      " [[ 8 12  6  5 12 10]\n",
      "  [ 7 19 16 11  2  3]\n",
      "  [ 9  6  4 13 10  1]\n",
      "  [13 19 18 12  3 10]\n",
      "  [ 7 11 19  3  7  5]]]\n"
     ]
    }
   ],
   "source": [
    "print(a)"
   ]
  },
  {
   "cell_type": "code",
   "execution_count": 21,
   "id": "1026d87a",
   "metadata": {},
   "outputs": [
    {
     "name": "stdout",
     "output_type": "stream",
     "text": [
      "[1 2 3 4 5 6 7 8 9]\n"
     ]
    }
   ],
   "source": [
    "a= np.arange(1,10)\n",
    "print(a)"
   ]
  },
  {
   "cell_type": "code",
   "execution_count": 22,
   "id": "5dcc008c",
   "metadata": {},
   "outputs": [
    {
     "name": "stdout",
     "output_type": "stream",
     "text": [
      "[[6 7 7 2 7]\n",
      " [1 8 1 1 2]]\n"
     ]
    }
   ],
   "source": [
    "a= np.random.randint(1,10,(2,5))\n",
    "print(a)\n"
   ]
  },
  {
   "cell_type": "code",
   "execution_count": 23,
   "id": "77c8c42d",
   "metadata": {},
   "outputs": [
    {
     "name": "stdout",
     "output_type": "stream",
     "text": [
      "[ 1  3  5  7  9 11 13 15 17 19 21 23 25 27 29 31 33 35 37 39 41 43 45 47\n",
      " 49 51 53 55 57 59 61 63 65 67 69 71 73 75 77 79 81 83 85 87 89 91 93 95\n",
      " 97 99]\n"
     ]
    }
   ],
   "source": [
    "a= np.arange(1,100,2)\n",
    "print(a)\n"
   ]
  },
  {
   "cell_type": "code",
   "execution_count": 24,
   "id": "dc7870f6",
   "metadata": {},
   "outputs": [
    {
     "name": "stdout",
     "output_type": "stream",
     "text": [
      "[[1 2 3]\n",
      " [4 5 6]\n",
      " [7 8 9]]\n"
     ]
    }
   ],
   "source": [
    "a= np.arange(1,10).reshape(3,3)\n",
    "print(a)\n"
   ]
  },
  {
   "cell_type": "code",
   "execution_count": 25,
   "id": "010f2fb1",
   "metadata": {},
   "outputs": [
    {
     "name": "stdout",
     "output_type": "stream",
     "text": [
      "[[[ 1  2]\n",
      "  [ 3  4]]\n",
      "\n",
      " [[ 5  6]\n",
      "  [ 7  8]]\n",
      "\n",
      " [[ 9 10]\n",
      "  [11 12]]]\n"
     ]
    }
   ],
   "source": [
    "a= np.arange(1,13).reshape(3,2,2)\n",
    "print(a)\n"
   ]
  },
  {
   "cell_type": "code",
   "execution_count": 26,
   "id": "9c5a83d6",
   "metadata": {},
   "outputs": [],
   "source": [
    "a=np.random.randint(1,13,(3,4))"
   ]
  },
  {
   "cell_type": "code",
   "execution_count": 27,
   "id": "dddaf2b3",
   "metadata": {},
   "outputs": [
    {
     "data": {
      "text/plain": [
       "array([[ 8,  2,  5,  1],\n",
       "       [ 6,  6,  1,  3],\n",
       "       [ 8,  2,  5, 10]])"
      ]
     },
     "execution_count": 27,
     "metadata": {},
     "output_type": "execute_result"
    }
   ],
   "source": [
    "a"
   ]
  },
  {
   "cell_type": "code",
   "execution_count": 28,
   "id": "f495461a",
   "metadata": {},
   "outputs": [
    {
     "name": "stdout",
     "output_type": "stream",
     "text": [
      "[[8 2 5]\n",
      " [1 6 6]\n",
      " [1 3 8]]\n"
     ]
    }
   ],
   "source": [
    "a.resize(3,3,refcheck=False)\n",
    "print(a)"
   ]
  },
  {
   "cell_type": "code",
   "execution_count": 29,
   "id": "0729a585",
   "metadata": {},
   "outputs": [
    {
     "data": {
      "text/plain": [
       "array([8, 2, 5, 1, 6, 6, 1, 3, 8])"
      ]
     },
     "execution_count": 29,
     "metadata": {},
     "output_type": "execute_result"
    }
   ],
   "source": [
    "b=a.flatten()\n",
    "b"
   ]
  },
  {
   "cell_type": "code",
   "execution_count": 30,
   "id": "630f2b41",
   "metadata": {},
   "outputs": [
    {
     "data": {
      "text/plain": [
       "array([[ 2,  6,  8,  8],\n",
       "       [ 3,  7, 11,  1],\n",
       "       [11,  1, 11,  3]])"
      ]
     },
     "execution_count": 30,
     "metadata": {},
     "output_type": "execute_result"
    }
   ],
   "source": [
    "\n",
    "a=np.random.randint(1,13,(3,4))\n",
    "a"
   ]
  },
  {
   "cell_type": "code",
   "execution_count": 46,
   "id": "6a4e1c2e",
   "metadata": {},
   "outputs": [
    {
     "name": "stdout",
     "output_type": "stream",
     "text": [
      "[5 8 2 3 5 4 6 6 4]\n"
     ]
    }
   ],
   "source": [
    "a=a.reshape(-1)\n",
    "print(a)\n"
   ]
  },
  {
   "cell_type": "code",
   "execution_count": 32,
   "id": "fb9fca71",
   "metadata": {},
   "outputs": [
    {
     "name": "stdout",
     "output_type": "stream",
     "text": [
      "[[1 2]\n",
      " [3 4]]\n"
     ]
    }
   ],
   "source": [
    "a= np.arange(1,5).reshape(2,2)\n",
    "print(a)\n"
   ]
  },
  {
   "cell_type": "code",
   "execution_count": 33,
   "id": "57bde3a1",
   "metadata": {},
   "outputs": [
    {
     "data": {
      "text/plain": [
       "array([[3, 4],\n",
       "       [5, 6]])"
      ]
     },
     "execution_count": 33,
     "metadata": {},
     "output_type": "execute_result"
    }
   ],
   "source": [
    "a+2"
   ]
  },
  {
   "cell_type": "code",
   "execution_count": 34,
   "id": "bdc395f4",
   "metadata": {},
   "outputs": [
    {
     "data": {
      "text/plain": [
       "array([[ 3,  6],\n",
       "       [ 9, 12]])"
      ]
     },
     "execution_count": 34,
     "metadata": {},
     "output_type": "execute_result"
    }
   ],
   "source": [
    "a*3"
   ]
  },
  {
   "cell_type": "code",
   "execution_count": 35,
   "id": "55af773a",
   "metadata": {},
   "outputs": [
    {
     "name": "stdout",
     "output_type": "stream",
     "text": [
      "[[7 5 8]\n",
      " [6 1 6]\n",
      " [7 7 5]]\n",
      "[[5 5 4]\n",
      " [4 6 5]\n",
      " [6 2 3]]\n"
     ]
    }
   ],
   "source": [
    "a= np.random.randint(1,9,(3,3))\n",
    "b=np.random.randint(1,9,(3,3))\n",
    "print(a)\n",
    "print(b)\n"
   ]
  },
  {
   "cell_type": "code",
   "execution_count": 36,
   "id": "1d108ade",
   "metadata": {},
   "outputs": [
    {
     "data": {
      "text/plain": [
       "array([[12, 10, 12],\n",
       "       [10,  7, 11],\n",
       "       [13,  9,  8]])"
      ]
     },
     "execution_count": 36,
     "metadata": {},
     "output_type": "execute_result"
    }
   ],
   "source": [
    "a+b"
   ]
  },
  {
   "cell_type": "code",
   "execution_count": 37,
   "id": "67b6cef8",
   "metadata": {},
   "outputs": [
    {
     "data": {
      "text/plain": [
       "array([[ 2,  0,  4],\n",
       "       [ 2, -5,  1],\n",
       "       [ 1,  5,  2]])"
      ]
     },
     "execution_count": 37,
     "metadata": {},
     "output_type": "execute_result"
    }
   ],
   "source": [
    "a-b"
   ]
  },
  {
   "cell_type": "code",
   "execution_count": 38,
   "id": "85b39e5a",
   "metadata": {},
   "outputs": [
    {
     "data": {
      "text/plain": [
       "array([[1, 1, 2],\n",
       "       [1, 0, 1],\n",
       "       [1, 3, 1]])"
      ]
     },
     "execution_count": 38,
     "metadata": {},
     "output_type": "execute_result"
    }
   ],
   "source": [
    "a//b"
   ]
  },
  {
   "cell_type": "code",
   "execution_count": 39,
   "id": "9994a13b",
   "metadata": {},
   "outputs": [
    {
     "name": "stdout",
     "output_type": "stream",
     "text": [
      "[[5 8 2]\n",
      " [3 5 4]\n",
      " [6 6 4]]\n"
     ]
    }
   ],
   "source": [
    "a= np.random.randint(1,9,(3,3))\n",
    "print(a)"
   ]
  },
  {
   "cell_type": "code",
   "execution_count": 40,
   "id": "7c5e2e53",
   "metadata": {},
   "outputs": [
    {
     "name": "stdout",
     "output_type": "stream",
     "text": [
      "43\n",
      "2\n",
      "8\n"
     ]
    }
   ],
   "source": [
    "print(a.sum())\n",
    "print(a.min())\n",
    "print(a.max())"
   ]
  },
  {
   "cell_type": "code",
   "execution_count": 41,
   "id": "abb701f9",
   "metadata": {},
   "outputs": [
    {
     "name": "stdout",
     "output_type": "stream",
     "text": [
      "[[5 8 2]\n",
      " [3 5 4]\n",
      " [6 6 4]]\n",
      "[14 19 10]\n",
      "[3 5 2]\n",
      "[6 8 4]\n"
     ]
    }
   ],
   "source": [
    "print(a)\n",
    "print(a.sum(axis=0))\n",
    "print(a.min(axis=0))\n",
    "print(a.max(axis=0))"
   ]
  },
  {
   "cell_type": "code",
   "execution_count": 42,
   "id": "4d19dfec",
   "metadata": {},
   "outputs": [
    {
     "name": "stdout",
     "output_type": "stream",
     "text": [
      "[[5 8 2]\n",
      " [3 5 4]\n",
      " [6 6 4]]\n",
      "[15 12 16]\n",
      "[2 3 4]\n",
      "[8 5 6]\n"
     ]
    }
   ],
   "source": [
    "print(a)\n",
    "print(a.sum(axis=1))\n",
    "print(a.min(axis=1))\n",
    "print(a.max(axis=1))"
   ]
  },
  {
   "cell_type": "code",
   "execution_count": 43,
   "id": "bf524155",
   "metadata": {},
   "outputs": [
    {
     "data": {
      "text/plain": [
       "array([[5, 8, 2],\n",
       "       [3, 5, 4],\n",
       "       [6, 6, 4]])"
      ]
     },
     "execution_count": 43,
     "metadata": {},
     "output_type": "execute_result"
    }
   ],
   "source": [
    "a\n"
   ]
  },
  {
   "cell_type": "code",
   "execution_count": 44,
   "id": "76aab9ab",
   "metadata": {},
   "outputs": [
    {
     "data": {
      "text/plain": [
       "array([[5, 3, 6],\n",
       "       [8, 5, 6],\n",
       "       [2, 4, 4]])"
      ]
     },
     "execution_count": 44,
     "metadata": {},
     "output_type": "execute_result"
    }
   ],
   "source": [
    "a.T  #transpose of matrix"
   ]
  },
  {
   "cell_type": "code",
   "execution_count": 45,
   "id": "d039a2b0",
   "metadata": {},
   "outputs": [
    {
     "data": {
      "text/plain": [
       "array([[69, 77, 66],\n",
       "       [59, 53, 49],\n",
       "       [78, 74, 66]])"
      ]
     },
     "execution_count": 45,
     "metadata": {},
     "output_type": "execute_result"
    }
   ],
   "source": [
    "a.dot(b)  #matrics Multipication"
   ]
  },
  {
   "cell_type": "code",
   "execution_count": null,
   "id": "1202dd0f",
   "metadata": {},
   "outputs": [],
   "source": []
  }
 ],
 "metadata": {
  "kernelspec": {
   "display_name": "Python 3 (ipykernel)",
   "language": "python",
   "name": "python3"
  },
  "language_info": {
   "codemirror_mode": {
    "name": "ipython",
    "version": 3
   },
   "file_extension": ".py",
   "mimetype": "text/x-python",
   "name": "python",
   "nbconvert_exporter": "python",
   "pygments_lexer": "ipython3",
   "version": "3.10.9"
  }
 },
 "nbformat": 4,
 "nbformat_minor": 5
}
