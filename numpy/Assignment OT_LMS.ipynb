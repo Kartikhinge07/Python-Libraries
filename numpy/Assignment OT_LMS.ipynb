{
 "cells": [
  {
   "cell_type": "code",
   "execution_count": 2,
   "id": "18a8d633",
   "metadata": {},
   "outputs": [],
   "source": [
    "import numpy as np\n"
   ]
  },
  {
   "cell_type": "markdown",
   "id": "98408e78",
   "metadata": {},
   "source": [
    "## Que1"
   ]
  },
  {
   "cell_type": "code",
   "execution_count": 6,
   "id": "22965559",
   "metadata": {
    "scrolled": true
   },
   "outputs": [
    {
     "name": "stdout",
     "output_type": "stream",
     "text": [
      "[[1 1 1]]\n",
      "2\n",
      "3\n",
      "(1, 3)\n",
      "4\n",
      "int32\n",
      "<memory at 0x0000020CCE954860>\n"
     ]
    }
   ],
   "source": [
    "a= np.random.randint(1,3,(1,3))\n",
    "print(a)\n",
    "print(a.ndim)\n",
    "print(a.size)\n",
    "print(a.shape)\n",
    "print(a.itemsize)\n",
    "print(a.dtype)\n",
    "print(a.data)\n"
   ]
  },
  {
   "cell_type": "code",
   "execution_count": 7,
   "id": "530c567b",
   "metadata": {},
   "outputs": [
    {
     "name": "stdout",
     "output_type": "stream",
     "text": [
      "[[5 2 2]\n",
      " [4 3 4]]\n",
      "2\n",
      "6\n",
      "(2, 3)\n",
      "4\n",
      "int32\n",
      "<memory at 0x0000020CCE954860>\n"
     ]
    }
   ],
   "source": [
    "a= np.random.randint(1,6,(2,3))\n",
    "print(a)\n",
    "print(a.ndim)\n",
    "print(a.size)\n",
    "print(a.shape)\n",
    "print(a.itemsize)\n",
    "print(a.dtype)\n",
    "print(a.data)"
   ]
  },
  {
   "cell_type": "code",
   "execution_count": 8,
   "id": "4aedb0f7",
   "metadata": {},
   "outputs": [
    {
     "name": "stdout",
     "output_type": "stream",
     "text": [
      "[[1 4 3]\n",
      " [5 2 5]\n",
      " [5 2 4]]\n",
      "2\n",
      "9\n",
      "(3, 3)\n",
      "4\n",
      "int32\n",
      "<memory at 0x0000020CCE954860>\n"
     ]
    }
   ],
   "source": [
    "a= np.random.randint(1,6,(3,3))\n",
    "print(a)\n",
    "print(a.ndim)\n",
    "print(a.size)\n",
    "print(a.shape)\n",
    "print(a.itemsize)\n",
    "print(a.dtype)\n",
    "print(a.data)"
   ]
  },
  {
   "cell_type": "markdown",
   "id": "71d773b8",
   "metadata": {},
   "source": [
    "## Que 2"
   ]
  },
  {
   "cell_type": "code",
   "execution_count": 14,
   "id": "162a0479",
   "metadata": {},
   "outputs": [
    {
     "name": "stdout",
     "output_type": "stream",
     "text": [
      "[[3801155 5570652 6619251 7536754 4915292]\n",
      " [5374017 4784212 6029387 7340097 4456560]\n",
      " [7602273 6029409 7274572 6357091 6029420]]\n"
     ]
    }
   ],
   "source": [
    "a= np.empty((3,5),dtype=int)\n",
    "print(a)\n"
   ]
  },
  {
   "cell_type": "code",
   "execution_count": 6,
   "id": "730a2469",
   "metadata": {},
   "outputs": [
    {
     "name": "stdout",
     "output_type": "stream",
     "text": [
      "[[5 5 5]\n",
      " [5 5 5]\n",
      " [5 5 5]\n",
      " [5 5 5]\n",
      " [5 5 5]]\n"
     ]
    }
   ],
   "source": [
    "a=np.full((5,3),5,dtype=int)\n",
    "print(a)"
   ]
  },
  {
   "cell_type": "code",
   "execution_count": 8,
   "id": "c0d0f24a",
   "metadata": {},
   "outputs": [
    {
     "name": "stdout",
     "output_type": "stream",
     "text": [
      "[[0 0 0]\n",
      " [0 0 0]\n",
      " [0 0 0]\n",
      " [0 0 0]\n",
      " [0 0 0]]\n"
     ]
    }
   ],
   "source": [
    "a= np.zeros((5,3),dtype=int)\n",
    "print(a)"
   ]
  },
  {
   "cell_type": "code",
   "execution_count": 10,
   "id": "a09a1d1c",
   "metadata": {},
   "outputs": [
    {
     "name": "stdout",
     "output_type": "stream",
     "text": [
      "[[1 1 1]\n",
      " [1 1 1]\n",
      " [1 1 1]\n",
      " [1 1 1]\n",
      " [1 1 1]]\n"
     ]
    }
   ],
   "source": [
    "a=np.ones((5,3),dtype=int)\n",
    "print(a)"
   ]
  },
  {
   "cell_type": "markdown",
   "id": "11b37e27",
   "metadata": {},
   "source": [
    "## que 3"
   ]
  },
  {
   "cell_type": "code",
   "execution_count": 27,
   "id": "31e59830",
   "metadata": {},
   "outputs": [
    {
     "name": "stdout",
     "output_type": "stream",
     "text": [
      "[[21 16 34 14 20]\n",
      " [28 16 29 16 38]\n",
      " [23 26 35 29 23]\n",
      " [28 18 32 26 25]\n",
      " [27 18 23 27 17]]\n"
     ]
    }
   ],
   "source": [
    "a=np.random.randint(14,40,(5,5))\n",
    "print(a)\n",
    "\n"
   ]
  },
  {
   "cell_type": "markdown",
   "id": "7066293b",
   "metadata": {},
   "source": [
    "## que 4"
   ]
  },
  {
   "cell_type": "code",
   "execution_count": 33,
   "id": "a7d5bc6c",
   "metadata": {
    "scrolled": true
   },
   "outputs": [
    {
     "name": "stdout",
     "output_type": "stream",
     "text": [
      "[[ 7 34 19 13 20]\n",
      " [18 33 19  5 15]\n",
      " [27 11  2  7 35]\n",
      " [ 3 23 12 18 23]\n",
      " [ 9  8 33 11 25]\n",
      " [35 32 37 31 25]\n",
      " [19 31 38 10 32]\n",
      " [ 8  3 33 22 26]]\n"
     ]
    }
   ],
   "source": [
    "a=np.random.randint(1,40,(8,5))\n",
    "print(a)"
   ]
  },
  {
   "cell_type": "markdown",
   "id": "30e69c1c",
   "metadata": {},
   "source": [
    "## que 5"
   ]
  },
  {
   "cell_type": "code",
   "execution_count": 35,
   "id": "c66ed4d0",
   "metadata": {},
   "outputs": [
    {
     "data": {
      "text/plain": [
       "array([[ 7, 34, 19, 13, 20, 18, 33, 19,  5, 15],\n",
       "       [27, 11,  2,  7, 35,  3, 23, 12, 18, 23],\n",
       "       [ 9,  8, 33, 11, 25, 35, 32, 37, 31, 25],\n",
       "       [19, 31, 38, 10, 32,  8,  3, 33, 22, 26]])"
      ]
     },
     "execution_count": 35,
     "metadata": {},
     "output_type": "execute_result"
    }
   ],
   "source": [
    "a.resize(4,10,refcheck=False)\n",
    "a"
   ]
  },
  {
   "cell_type": "markdown",
   "id": "b74b7620",
   "metadata": {},
   "source": [
    "## que6"
   ]
  },
  {
   "cell_type": "code",
   "execution_count": 1,
   "id": "8b674a0d",
   "metadata": {},
   "outputs": [
    {
     "ename": "NameError",
     "evalue": "name 'a' is not defined",
     "output_type": "error",
     "traceback": [
      "\u001b[1;31m---------------------------------------------------------------------------\u001b[0m",
      "\u001b[1;31mNameError\u001b[0m                                 Traceback (most recent call last)",
      "Cell \u001b[1;32mIn[1], line 1\u001b[0m\n\u001b[1;32m----> 1\u001b[0m \u001b[43ma\u001b[49m\n\u001b[0;32m      2\u001b[0m a[\u001b[38;5;241m0\u001b[39m:\u001b[38;5;241m3\u001b[39m,\u001b[38;5;241m0\u001b[39m:\u001b[38;5;241m4\u001b[39m]\n\u001b[0;32m      3\u001b[0m a[\u001b[38;5;241m0\u001b[39m:\u001b[38;5;241m3\u001b[39m,\u001b[38;5;241m4\u001b[39m:\u001b[38;5;241m5\u001b[39m]\n",
      "\u001b[1;31mNameError\u001b[0m: name 'a' is not defined"
     ]
    }
   ],
   "source": [
    "a\n",
    "a[0:3,0:4]\n",
    "a[0:3,4:5]\n",
    "a[2:4]\n",
    "a[::,3:6]"
   ]
  },
  {
   "cell_type": "markdown",
   "id": "54fcf145",
   "metadata": {},
   "source": [
    "## que 7"
   ]
  },
  {
   "cell_type": "code",
   "execution_count": 61,
   "id": "722f1d9c",
   "metadata": {},
   "outputs": [
    {
     "data": {
      "text/plain": [
       "array([ 7, 19, 13, 33, 19,  5, 15, 27, 11,  7, 35,  3, 23, 23,  9, 33, 11,\n",
       "       25, 35, 37, 31, 25, 19, 31,  3, 33])"
      ]
     },
     "execution_count": 61,
     "metadata": {},
     "output_type": "execute_result"
    }
   ],
   "source": [
    "b=a.flatten()\n",
    "\n",
    "b[b%2==1]"
   ]
  },
  {
   "cell_type": "markdown",
   "id": "90f3dd1d",
   "metadata": {},
   "source": [
    "## que 8"
   ]
  },
  {
   "cell_type": "code",
   "execution_count": 63,
   "id": "78950576",
   "metadata": {},
   "outputs": [
    {
     "data": {
      "text/plain": [
       "array([ 7, -1, 19, 13, -1, -1, 33, 19,  5, 15, 27, 11, -1,  7, 35,  3, 23,\n",
       "       -1, -1, 23,  9, -1, 33, 11, 25, 35, -1, 37, 31, 25, 19, 31, -1, -1,\n",
       "       -1, -1,  3, 33, -1, -1])"
      ]
     },
     "execution_count": 63,
     "metadata": {},
     "output_type": "execute_result"
    }
   ],
   "source": [
    "b=a.flatten()\n",
    "\n",
    "b[b%2==0]=-1\n",
    "b"
   ]
  },
  {
   "cell_type": "markdown",
   "id": "43af7532",
   "metadata": {},
   "source": [
    "## que 9"
   ]
  },
  {
   "cell_type": "code",
   "execution_count": 67,
   "id": "2888c385",
   "metadata": {},
   "outputs": [
    {
     "data": {
      "text/plain": [
       "array([ 1,  2,  3,  4,  5, 10, 20, 30, 40, 50])"
      ]
     },
     "execution_count": 67,
     "metadata": {},
     "output_type": "execute_result"
    }
   ],
   "source": [
    "a=np.array([1,2,3,4,5])\n",
    "b=np.array([10,20,30,40,50])\n",
    "np.append(a,b)"
   ]
  },
  {
   "cell_type": "markdown",
   "id": "7e90c8af",
   "metadata": {},
   "source": [
    "# que 10"
   ]
  },
  {
   "cell_type": "code",
   "execution_count": 82,
   "id": "5f8765fb",
   "metadata": {},
   "outputs": [
    {
     "data": {
      "text/plain": [
       "array([[ 1,  2,  3,  4,  5,  6,  7,  8],\n",
       "       [ 9, 10, 11, 12, 13, 14, 15, 16]])"
      ]
     },
     "execution_count": 82,
     "metadata": {},
     "output_type": "execute_result"
    }
   ],
   "source": [
    "a=np.array([1,2,3,4,5,6,7,8,9,10,11,12,13,14,15,16])\n",
    "\n",
    "b=a.reshape(2,8)\n",
    "b"
   ]
  },
  {
   "cell_type": "markdown",
   "id": "fa0157dd",
   "metadata": {},
   "source": [
    "## que 11"
   ]
  },
  {
   "cell_type": "code",
   "execution_count": 100,
   "id": "cc555c6d",
   "metadata": {},
   "outputs": [
    {
     "data": {
      "text/plain": [
       "array([[20, 22, 27, 28, 35, 38],\n",
       "       [14, 14, 18, 23, 23, 29]])"
      ]
     },
     "execution_count": 100,
     "metadata": {},
     "output_type": "execute_result"
    }
   ],
   "source": [
    "a = np.random.randint(13,40,(2,6))\n",
    "np.sort(a,axis=1)\n"
   ]
  },
  {
   "cell_type": "code",
   "execution_count": 108,
   "id": "b98c1408",
   "metadata": {},
   "outputs": [
    {
     "ename": "NameError",
     "evalue": "name 'axis' is not defined",
     "output_type": "error",
     "traceback": [
      "\u001b[1;31m---------------------------------------------------------------------------\u001b[0m",
      "\u001b[1;31mNameError\u001b[0m                                 Traceback (most recent call last)",
      "Cell \u001b[1;32mIn[108], line 1\u001b[0m\n\u001b[1;32m----> 1\u001b[0m np\u001b[38;5;241m.\u001b[39msort(a,\u001b[43maxis\u001b[49m)\n",
      "\u001b[1;31mNameError\u001b[0m: name 'axis' is not defined"
     ]
    }
   ],
   "source": [
    "np.sort(a,axis)"
   ]
  },
  {
   "cell_type": "markdown",
   "id": "cec3fcfa",
   "metadata": {},
   "source": [
    "## que 12 "
   ]
  },
  {
   "cell_type": "code",
   "execution_count": 109,
   "id": "68341a4d",
   "metadata": {},
   "outputs": [
    {
     "name": "stdout",
     "output_type": "stream",
     "text": [
      "[[ 9  8  1]\n",
      " [ 8  7 12]\n",
      " [ 4  8 14]\n",
      " [ 7 13 13]\n",
      " [ 4 11  8]]\n",
      "[[13 12  5]\n",
      " [12 11 16]\n",
      " [ 8 12 18]\n",
      " [11 17 17]\n",
      " [ 8 15 12]]\n",
      "[[18 16  2]\n",
      " [16 14 24]\n",
      " [ 8 16 28]\n",
      " [14 26 26]\n",
      " [ 8 22 16]]\n",
      "[[ 6  5 -2]\n",
      " [ 5  4  9]\n",
      " [ 1  5 11]\n",
      " [ 4 10 10]\n",
      " [ 1  8  5]]\n",
      "[[4 4 0]\n",
      " [4 3 6]\n",
      " [2 4 7]\n",
      " [3 6 6]\n",
      " [2 5 4]]\n"
     ]
    }
   ],
   "source": [
    "b=np.random.randint(1,15,(5,3))\n",
    "print(b)\n",
    "print(b+4)\n",
    "print(b*2)\n",
    "print(b-3)\n",
    "print(b//2)"
   ]
  },
  {
   "cell_type": "markdown",
   "id": "615dc3c5",
   "metadata": {},
   "source": [
    "## que 13"
   ]
  },
  {
   "cell_type": "code",
   "execution_count": 112,
   "id": "4793557b",
   "metadata": {},
   "outputs": [
    {
     "name": "stdout",
     "output_type": "stream",
     "text": [
      "[[5 8 4]\n",
      " [6 5 4]\n",
      " [3 2 7]]\n",
      "[[3 2 1]\n",
      " [8 3 3]\n",
      " [5 2 6]]\n",
      "[[ 8 10  5]\n",
      " [14  8  7]\n",
      " [ 8  4 13]]\n",
      "[[ 2  6  3]\n",
      " [-2  2  1]\n",
      " [-2  0  1]]\n",
      "[[15 16  4]\n",
      " [48 15 12]\n",
      " [15  4 42]]\n",
      "[[99 42 53]\n",
      " [78 35 45]\n",
      " [60 26 51]]\n",
      "[14 15 15]\n",
      "[3 2 4]\n",
      "[8 3 6]\n"
     ]
    }
   ],
   "source": [
    "b=np.random.randint(1,9,(3,3))\n",
    "c=np.random.randint(1,9,(3,3))\n",
    "print(b)\n",
    "print(c)\n",
    "\n",
    "print(b+c)\n",
    "print(b-c)\n",
    "print(b*c)\n",
    "print(b.dot(c))\n",
    "print(b.sum(axis=0))\n",
    "print(b.min(axis=0))\n",
    "print(c.max(axis=0))"
   ]
  },
  {
   "cell_type": "code",
   "execution_count": null,
   "id": "779d579e",
   "metadata": {},
   "outputs": [],
   "source": []
  }
 ],
 "metadata": {
  "kernelspec": {
   "display_name": "Python 3 (ipykernel)",
   "language": "python",
   "name": "python3"
  },
  "language_info": {
   "codemirror_mode": {
    "name": "ipython",
    "version": 3
   },
   "file_extension": ".py",
   "mimetype": "text/x-python",
   "name": "python",
   "nbconvert_exporter": "python",
   "pygments_lexer": "ipython3",
   "version": "3.10.9"
  }
 },
 "nbformat": 4,
 "nbformat_minor": 5
}
