{
 "cells": [
  {
   "cell_type": "markdown",
   "id": "ce5810f3",
   "metadata": {},
   "source": [
    "## ARRAY SLICING"
   ]
  },
  {
   "cell_type": "code",
   "execution_count": 1,
   "id": "efa42002",
   "metadata": {
    "scrolled": true
   },
   "outputs": [
    {
     "name": "stdout",
     "output_type": "stream",
     "text": [
      "[[ 4 14  2  1  8]\n",
      " [11 11  8 13  3]\n",
      " [ 2  1  4 11 13]\n",
      " [ 3  3 12  9  4]\n",
      " [ 7 12 10 10 12]\n",
      " [12  1  2  3  4]]\n"
     ]
    }
   ],
   "source": [
    "import numpy as np\n",
    "a=np.random.randint(1,15,(6,5))\n",
    "print(a)"
   ]
  },
  {
   "cell_type": "code",
   "execution_count": 8,
   "id": "697be1c2",
   "metadata": {},
   "outputs": [
    {
     "data": {
      "text/plain": [
       "array([[ 4,  8],\n",
       "       [11,  3],\n",
       "       [ 2, 13],\n",
       "       [ 3,  4],\n",
       "       [ 7, 12],\n",
       "       [12,  4]])"
      ]
     },
     "execution_count": 8,
     "metadata": {},
     "output_type": "execute_result"
    }
   ],
   "source": [
    "a[:,0::4]\n"
   ]
  },
  {
   "cell_type": "code",
   "execution_count": 62,
   "id": "ec338684",
   "metadata": {},
   "outputs": [
    {
     "data": {
      "text/plain": [
       "array([[ 6,  1, 14, 12,  6],\n",
       "       [ 4, 12,  3, 14,  6]])"
      ]
     },
     "execution_count": 62,
     "metadata": {},
     "output_type": "execute_result"
    }
   ],
   "source": [
    "a[1:3]"
   ]
  },
  {
   "cell_type": "code",
   "execution_count": null,
   "id": "707125ee",
   "metadata": {},
   "outputs": [],
   "source": []
  },
  {
   "cell_type": "code",
   "execution_count": 58,
   "id": "fb5b6069",
   "metadata": {
    "scrolled": true
   },
   "outputs": [
    {
     "data": {
      "text/plain": [
       "5"
      ]
     },
     "execution_count": 58,
     "metadata": {},
     "output_type": "execute_result"
    }
   ],
   "source": [
    "a[3,2]"
   ]
  },
  {
   "cell_type": "code",
   "execution_count": 59,
   "id": "377f53a0",
   "metadata": {},
   "outputs": [
    {
     "data": {
      "text/plain": [
       "array([ 4, 12,  3, 14,  6])"
      ]
     },
     "execution_count": 59,
     "metadata": {},
     "output_type": "execute_result"
    }
   ],
   "source": [
    "a[2,:]"
   ]
  },
  {
   "cell_type": "code",
   "execution_count": 60,
   "id": "a8157459",
   "metadata": {},
   "outputs": [
    {
     "data": {
      "text/plain": [
       "array([[10, 11,  5],\n",
       "       [ 4,  3,  6],\n",
       "       [ 7,  5, 14]])"
      ]
     },
     "execution_count": 60,
     "metadata": {},
     "output_type": "execute_result"
    }
   ],
   "source": [
    "a[::2,::2]"
   ]
  },
  {
   "cell_type": "code",
   "execution_count": 13,
   "id": "08b3c45f",
   "metadata": {},
   "outputs": [
    {
     "name": "stdout",
     "output_type": "stream",
     "text": [
      "[[ 9  2  9 11  4]\n",
      " [ 8  9  8 13 14]\n",
      " [13  3 12 13  2]\n",
      " [ 3 10  2  3  4]\n",
      " [ 6  5  5  1 12]\n",
      " [11 14  4  3  2]]\n"
     ]
    },
    {
     "data": {
      "text/plain": [
       "array([[11, 14,  4,  3,  2],\n",
       "       [ 6,  5,  5,  1, 12],\n",
       "       [ 3, 10,  2,  3,  4],\n",
       "       [13,  3, 12, 13,  2],\n",
       "       [ 8,  9,  8, 13, 14],\n",
       "       [ 9,  2,  9, 11,  4]])"
      ]
     },
     "execution_count": 13,
     "metadata": {},
     "output_type": "execute_result"
    }
   ],
   "source": [
    "print(a)\n",
    "a[::-1]"
   ]
  },
  {
   "cell_type": "code",
   "execution_count": 14,
   "id": "c0834c23",
   "metadata": {},
   "outputs": [
    {
     "name": "stdout",
     "output_type": "stream",
     "text": [
      "[[ 9  2  9 11  4]\n",
      " [ 8  9  8 13 14]\n",
      " [13  3 12 13  2]\n",
      " [ 3 10  2  3  4]\n",
      " [ 6  5  5  1 12]\n",
      " [11 14  4  3  2]]\n"
     ]
    },
    {
     "data": {
      "text/plain": [
       "array([[ 2,  3,  4, 14, 11],\n",
       "       [12,  1,  5,  5,  6],\n",
       "       [ 4,  3,  2, 10,  3],\n",
       "       [ 2, 13, 12,  3, 13],\n",
       "       [14, 13,  8,  9,  8],\n",
       "       [ 4, 11,  9,  2,  9]])"
      ]
     },
     "execution_count": 14,
     "metadata": {},
     "output_type": "execute_result"
    }
   ],
   "source": [
    "print(a)\n",
    "a[::-1,::-1]"
   ]
  },
  {
   "cell_type": "code",
   "execution_count": 17,
   "id": "b44279a8",
   "metadata": {},
   "outputs": [
    {
     "data": {
      "text/plain": [
       "array([[ 4, 11,  9,  2,  9],\n",
       "       [14, 13,  8,  9,  8],\n",
       "       [ 2, 13, 12,  3, 13],\n",
       "       [ 4,  3,  2, 10,  3],\n",
       "       [12,  1,  5,  5,  6],\n",
       "       [ 2,  3,  4, 14, 11]])"
      ]
     },
     "execution_count": 17,
     "metadata": {},
     "output_type": "execute_result"
    }
   ],
   "source": [
    "a[:,::-1]"
   ]
  },
  {
   "cell_type": "code",
   "execution_count": 18,
   "id": "906ed402",
   "metadata": {},
   "outputs": [
    {
     "data": {
      "text/plain": [
       "array([ 1,  2,  3,  4,  5,  6,  8,  9, 10, 11, 12, 13, 14])"
      ]
     },
     "execution_count": 18,
     "metadata": {},
     "output_type": "execute_result"
    }
   ],
   "source": [
    "np.unique(a)"
   ]
  },
  {
   "cell_type": "code",
   "execution_count": 20,
   "id": "64db7cd2",
   "metadata": {},
   "outputs": [
    {
     "name": "stdout",
     "output_type": "stream",
     "text": [
      "[[ 9  2  9 11  4]\n",
      " [ 8  9  8 13 14]\n",
      " [13  3 12 13  2]\n",
      " [ 3 10  2  3  4]\n",
      " [ 6  5  5  1 12]\n",
      " [11 14  4  3  2]]\n"
     ]
    },
    {
     "data": {
      "text/plain": [
       "array([[ 2,  4,  9,  9, 11],\n",
       "       [ 8,  8,  9, 13, 14],\n",
       "       [ 2,  3, 12, 13, 13],\n",
       "       [ 2,  3,  3,  4, 10],\n",
       "       [ 1,  5,  5,  6, 12],\n",
       "       [ 2,  3,  4, 11, 14]])"
      ]
     },
     "execution_count": 20,
     "metadata": {},
     "output_type": "execute_result"
    }
   ],
   "source": [
    "print(a)\n",
    "np.sort(a)\n"
   ]
  },
  {
   "cell_type": "code",
   "execution_count": 22,
   "id": "49d6a3b2",
   "metadata": {},
   "outputs": [
    {
     "name": "stdout",
     "output_type": "stream",
     "text": [
      "[[ 9  2  9 11  4]\n",
      " [ 8  9  8 13 14]\n",
      " [13  3 12 13  2]\n",
      " [ 3 10  2  3  4]\n",
      " [ 6  5  5  1 12]\n",
      " [11 14  4  3  2]]\n"
     ]
    },
    {
     "data": {
      "text/plain": [
       "array([[ 3,  2,  2,  1,  2],\n",
       "       [ 6,  3,  4,  3,  2],\n",
       "       [ 8,  5,  5,  3,  4],\n",
       "       [ 9,  9,  8, 11,  4],\n",
       "       [11, 10,  9, 13, 12],\n",
       "       [13, 14, 12, 13, 14]])"
      ]
     },
     "execution_count": 22,
     "metadata": {},
     "output_type": "execute_result"
    }
   ],
   "source": [
    "print(a)\n",
    "np.sort(a,axis=0)"
   ]
  },
  {
   "cell_type": "code",
   "execution_count": 24,
   "id": "a0e7d205",
   "metadata": {},
   "outputs": [
    {
     "name": "stdout",
     "output_type": "stream",
     "text": [
      "[[ 9  2  9 11  4]\n",
      " [ 8  9  8 13 14]\n",
      " [13  3 12 13  2]\n",
      " [ 3 10  2  3  4]\n",
      " [ 6  5  5  1 12]\n",
      " [11 14  4  3  2]]\n"
     ]
    },
    {
     "data": {
      "text/plain": [
       "array([[ 2,  4,  9,  9, 11],\n",
       "       [ 8,  8,  9, 13, 14],\n",
       "       [ 2,  3, 12, 13, 13],\n",
       "       [ 2,  3,  3,  4, 10],\n",
       "       [ 1,  5,  5,  6, 12],\n",
       "       [ 2,  3,  4, 11, 14]])"
      ]
     },
     "execution_count": 24,
     "metadata": {},
     "output_type": "execute_result"
    }
   ],
   "source": [
    "print(a)\n",
    "np.sort(a,axis=1)\n"
   ]
  },
  {
   "cell_type": "code",
   "execution_count": 25,
   "id": "b3de6fb4",
   "metadata": {},
   "outputs": [
    {
     "data": {
      "text/plain": [
       "array([ 9,  2,  9, 11,  4,  8,  9,  8, 13, 14, 13,  3, 12, 13,  2,  3, 10,\n",
       "        2,  3,  4,  6,  5,  5,  1, 12, 11, 14,  4,  3,  2])"
      ]
     },
     "execution_count": 25,
     "metadata": {},
     "output_type": "execute_result"
    }
   ],
   "source": [
    "b=a.flatten()\n",
    "b"
   ]
  },
  {
   "cell_type": "code",
   "execution_count": 26,
   "id": "eb866d05",
   "metadata": {},
   "outputs": [],
   "source": [
    "a=np.sort(b)"
   ]
  },
  {
   "cell_type": "code",
   "execution_count": 27,
   "id": "52ad799f",
   "metadata": {},
   "outputs": [
    {
     "data": {
      "text/plain": [
       "array([ 1,  2,  2,  2,  2,  3,  3,  3,  3,  4,  4,  4,  5,  5,  6,  8,  8,\n",
       "        9,  9,  9, 10, 11, 11, 12, 12, 13, 13, 13, 14, 14])"
      ]
     },
     "execution_count": 27,
     "metadata": {},
     "output_type": "execute_result"
    }
   ],
   "source": [
    "a"
   ]
  },
  {
   "cell_type": "code",
   "execution_count": 28,
   "id": "24c95966",
   "metadata": {},
   "outputs": [
    {
     "data": {
      "text/plain": [
       "array([[ 1,  2,  2,  2,  2],\n",
       "       [ 3,  3,  3,  3,  4],\n",
       "       [ 4,  4,  5,  5,  6],\n",
       "       [ 8,  8,  9,  9,  9],\n",
       "       [10, 11, 11, 12, 12],\n",
       "       [13, 13, 13, 14, 14]])"
      ]
     },
     "execution_count": 28,
     "metadata": {},
     "output_type": "execute_result"
    }
   ],
   "source": [
    "a=a.reshape(6,5)\n",
    "a"
   ]
  },
  {
   "cell_type": "code",
   "execution_count": 29,
   "id": "997f9e7a",
   "metadata": {},
   "outputs": [
    {
     "name": "stdout",
     "output_type": "stream",
     "text": [
      "[ 1  2  3  4  5  6  7  8  9 10]\n",
      "[11 12 13 14 15 16 17 18 19 20]\n"
     ]
    }
   ],
   "source": [
    "a= np.arange(1,11)\n",
    "b=np.arange(11,21)\n",
    "print(a)\n",
    "print(b)"
   ]
  },
  {
   "cell_type": "code",
   "execution_count": 30,
   "id": "238f10c3",
   "metadata": {},
   "outputs": [
    {
     "data": {
      "text/plain": [
       "array([ 1,  2,  3,  4,  5,  6,  7,  8,  9, 10, 11, 12, 13, 14, 15, 16, 17,\n",
       "       18, 19, 20])"
      ]
     },
     "execution_count": 30,
     "metadata": {},
     "output_type": "execute_result"
    }
   ],
   "source": [
    "\n",
    "np.append(a,b)"
   ]
  },
  {
   "cell_type": "code",
   "execution_count": 31,
   "id": "7464e26a",
   "metadata": {},
   "outputs": [
    {
     "name": "stdout",
     "output_type": "stream",
     "text": [
      "[ 1  2  3  4  5  6  7  8  9 10]\n",
      "[11 12 13 14 15 16 17 18 19 20]\n"
     ]
    },
    {
     "data": {
      "text/plain": [
       "array([ 1,  2,  3,  4,  5,  6,  7,  8,  9, 10, 11, 12, 13, 14, 15, 16, 17,\n",
       "       18, 19, 20])"
      ]
     },
     "execution_count": 31,
     "metadata": {},
     "output_type": "execute_result"
    }
   ],
   "source": [
    "print(a)\n",
    "print(b)\n",
    "np.append(a,b,axis=0)\n"
   ]
  },
  {
   "cell_type": "code",
   "execution_count": 32,
   "id": "3d81e6d3",
   "metadata": {},
   "outputs": [
    {
     "name": "stdout",
     "output_type": "stream",
     "text": [
      "[[ 1  2  3  4  5]\n",
      " [ 6  7  8  9 10]]\n",
      "[[11 12 13 14 15]\n",
      " [16 17 18 19 20]]\n"
     ]
    }
   ],
   "source": [
    "a= np.arange(1,11).reshape(2,5)\n",
    "b=np.arange(11,21).reshape(2,5)\n",
    "print(a)\n",
    "print(b)"
   ]
  },
  {
   "cell_type": "code",
   "execution_count": 33,
   "id": "0d7aa553",
   "metadata": {},
   "outputs": [
    {
     "data": {
      "text/plain": [
       "array([ 1,  2,  3,  4,  5,  6,  7,  8,  9, 10, 11, 12, 13, 14, 15, 16, 17,\n",
       "       18, 19, 20])"
      ]
     },
     "execution_count": 33,
     "metadata": {},
     "output_type": "execute_result"
    }
   ],
   "source": [
    "np.append(a,b)\n"
   ]
  },
  {
   "cell_type": "code",
   "execution_count": 34,
   "id": "c2ca1130",
   "metadata": {},
   "outputs": [
    {
     "name": "stdout",
     "output_type": "stream",
     "text": [
      "[[ 1  2  3  4  5]\n",
      " [ 6  7  8  9 10]]\n",
      "[[11 12 13 14 15]\n",
      " [16 17 18 19 20]]\n"
     ]
    },
    {
     "data": {
      "text/plain": [
       "array([[ 1,  2,  3,  4,  5],\n",
       "       [ 6,  7,  8,  9, 10],\n",
       "       [11, 12, 13, 14, 15],\n",
       "       [16, 17, 18, 19, 20]])"
      ]
     },
     "execution_count": 34,
     "metadata": {},
     "output_type": "execute_result"
    }
   ],
   "source": [
    "print(a)\n",
    "print(b)\n",
    "np.append(a,b,axis=0)"
   ]
  },
  {
   "cell_type": "code",
   "execution_count": 35,
   "id": "e6bd8cd8",
   "metadata": {},
   "outputs": [
    {
     "name": "stdout",
     "output_type": "stream",
     "text": [
      "[[ 1  2  3  4  5]\n",
      " [ 6  7  8  9 10]]\n",
      "[[11 12 13 14 15]\n",
      " [16 17 18 19 20]]\n"
     ]
    },
    {
     "data": {
      "text/plain": [
       "array([[ 1,  2,  3,  4,  5, 11, 12, 13, 14, 15],\n",
       "       [ 6,  7,  8,  9, 10, 16, 17, 18, 19, 20]])"
      ]
     },
     "execution_count": 35,
     "metadata": {},
     "output_type": "execute_result"
    }
   ],
   "source": [
    "print(a)\n",
    "print(b)\n",
    "np.append(a,b,axis=1)"
   ]
  },
  {
   "cell_type": "code",
   "execution_count": 36,
   "id": "28031262",
   "metadata": {},
   "outputs": [
    {
     "name": "stdout",
     "output_type": "stream",
     "text": [
      "[[10  8 10  2  5]\n",
      " [ 5 10 10  4  5]]\n",
      "[[ 4  6 10  2  8]\n",
      " [ 6  7  4  4  1]]\n",
      "[[ 6  2  0  0 -3]\n",
      " [-1  3  6  0  4]]\n"
     ]
    }
   ],
   "source": [
    "a = np.random.randint(1,11,(2,5))\n",
    "b = np.random.randint(1,11,(2,5))\n",
    "print(a)\n",
    "print(b)\n",
    "c= a-b\n",
    "print(c)"
   ]
  },
  {
   "cell_type": "code",
   "execution_count": 38,
   "id": "4246c758",
   "metadata": {},
   "outputs": [
    {
     "data": {
      "text/plain": [
       "array([6, 2, 3, 6, 4])"
      ]
     },
     "execution_count": 38,
     "metadata": {},
     "output_type": "execute_result"
    }
   ],
   "source": [
    "c[c>0]"
   ]
  },
  {
   "cell_type": "code",
   "execution_count": 40,
   "id": "218420f9",
   "metadata": {},
   "outputs": [
    {
     "data": {
      "text/plain": [
       "array([-3, -1])"
      ]
     },
     "execution_count": 40,
     "metadata": {},
     "output_type": "execute_result"
    }
   ],
   "source": [
    "c[c<0]"
   ]
  },
  {
   "cell_type": "code",
   "execution_count": 41,
   "id": "94326b5a",
   "metadata": {},
   "outputs": [],
   "source": [
    "c[c<0]=10\n"
   ]
  },
  {
   "cell_type": "code",
   "execution_count": 42,
   "id": "2c16e1d6",
   "metadata": {},
   "outputs": [
    {
     "data": {
      "text/plain": [
       "array([[ 6,  2,  0,  0, 10],\n",
       "       [10,  3,  6,  0,  4]])"
      ]
     },
     "execution_count": 42,
     "metadata": {},
     "output_type": "execute_result"
    }
   ],
   "source": [
    "c"
   ]
  },
  {
   "cell_type": "code",
   "execution_count": 43,
   "id": "6f5f3a75",
   "metadata": {},
   "outputs": [
    {
     "data": {
      "text/plain": [
       "array([[ 4,  6, 10,  2,  8],\n",
       "       [ 6,  7,  4,  4,  1]])"
      ]
     },
     "execution_count": 43,
     "metadata": {},
     "output_type": "execute_result"
    }
   ],
   "source": [
    "b"
   ]
  },
  {
   "cell_type": "code",
   "execution_count": 44,
   "id": "35eb060c",
   "metadata": {},
   "outputs": [
    {
     "data": {
      "text/plain": [
       "array([ 4,  6, 10,  2,  8,  6,  4,  4])"
      ]
     },
     "execution_count": 44,
     "metadata": {},
     "output_type": "execute_result"
    }
   ],
   "source": [
    "b[b%2==0]"
   ]
  },
  {
   "cell_type": "code",
   "execution_count": 45,
   "id": "fccace95",
   "metadata": {},
   "outputs": [
    {
     "data": {
      "text/plain": [
       "array([7, 1])"
      ]
     },
     "execution_count": 45,
     "metadata": {},
     "output_type": "execute_result"
    }
   ],
   "source": [
    "b[b%2==1]"
   ]
  },
  {
   "cell_type": "code",
   "execution_count": null,
   "id": "af74d95b",
   "metadata": {},
   "outputs": [],
   "source": []
  }
 ],
 "metadata": {
  "kernelspec": {
   "display_name": "Python 3 (ipykernel)",
   "language": "python",
   "name": "python3"
  },
  "language_info": {
   "codemirror_mode": {
    "name": "ipython",
    "version": 3
   },
   "file_extension": ".py",
   "mimetype": "text/x-python",
   "name": "python",
   "nbconvert_exporter": "python",
   "pygments_lexer": "ipython3",
   "version": "3.10.9"
  }
 },
 "nbformat": 4,
 "nbformat_minor": 5
}
