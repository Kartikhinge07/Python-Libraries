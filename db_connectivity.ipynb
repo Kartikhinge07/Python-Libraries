{
 "cells": [
  {
   "cell_type": "markdown",
   "id": "93682493",
   "metadata": {},
   "source": [
    "\n",
    "### creating database and connecting to database"
   ]
  },
  {
   "cell_type": "code",
   "execution_count": null,
   "id": "4ab027c9",
   "metadata": {},
   "outputs": [],
   "source": [
    "import mysql.connector\n",
    "mydb=mysql.connector.connect( host=\"localhost\" ,user=\"root\", password=\"root\" )\n",
    "mycur=mydb.cursor()\n",
    "mycur.execute(\"Create database mytest\")\n",
    "mycur.execute(\"show databases\")\n",
    "\n",
    "for db in mycur:\n",
    "    print(db)\n",
    "cur.close()\n",
    "mydb.close()\n"
   ]
  },
  {
   "cell_type": "markdown",
   "id": "3db82e11",
   "metadata": {},
   "source": [
    "### Create Table "
   ]
  },
  {
   "cell_type": "code",
   "execution_count": 5,
   "id": "a07f1a98",
   "metadata": {},
   "outputs": [
    {
     "name": "stdout",
     "output_type": "stream",
     "text": [
      "('book',)\n"
     ]
    }
   ],
   "source": [
    "import mysql.connector\n",
    "mydb=mysql.connector.connect( host=\"localhost\" ,user=\"root\", password=\"root\", database=\"mytest\" )\n",
    "mycur=mydb.cursor()\n",
    "mycur.execute(\"create table book(bookid int auto_increment primary key,name varchar(200),author varchar(200),price float(6,2))\")\n",
    "mycur.execute(\"show tables\")\n",
    "\n",
    "for db in mycur:\n",
    "    print(db)\n",
    "mycur.close()\n",
    "mydb.close()\n"
   ]
  },
  {
   "cell_type": "markdown",
   "id": "bc04fef2",
   "metadata": {},
   "source": [
    "### Insert Data into Table"
   ]
  },
  {
   "cell_type": "code",
   "execution_count": 8,
   "id": "666b7e34",
   "metadata": {},
   "outputs": [
    {
     "name": "stdout",
     "output_type": "stream",
     "text": [
      "1  inserted Successfully\n"
     ]
    }
   ],
   "source": [
    "mydb=mysql.connector.connect( host=\"localhost\" ,user=\"root\", password=\"root\", database=\"mytest\" )\n",
    "mycur=mydb.cursor()\n",
    "mycur.execute(\"insert into book(name ,author , price ) values('let us c','Kanitkar',500.00)\")\n",
    "mydb.commit()\n",
    "print(mycur.rowcount,\" inserted Successfully\")"
   ]
  },
  {
   "cell_type": "markdown",
   "id": "b35c0add",
   "metadata": {},
   "source": []
  },
  {
   "cell_type": "code",
   "execution_count": 5,
   "id": "25ece90c",
   "metadata": {},
   "outputs": [
    {
     "name": "stdout",
     "output_type": "stream",
     "text": [
      "Enter book name:bug finder\n",
      "Enter book author:rakesh\n",
      "Enter book price200\n",
      "Enter book name:nasa\n",
      "Enter book author:amogh\n",
      "Enter book price10\n",
      "Enter book name:vaquash Teacher\n",
      "Enter book author:Nico bhai\n",
      "Enter book price100\n",
      "3 inserted successfully\n"
     ]
    }
   ],
   "source": [
    "import mysql.connector\n",
    "mydb=mysql.connector.connect( host=\"localhost\" ,user=\"root\", password=\"root\", database=\"mytest\" )\n",
    "mycur=mydb.cursor()\n",
    "sql= \"insert into book(name,author,price) values(%s,%s,%s)\"\n",
    "lst=[]\n",
    "for i in range(0,3):\n",
    "    name=input(\"Enter book name:\")\n",
    "    author=input(\"Enter book author:\")\n",
    "    price=float(input(\"Enter book price\"))\n",
    "    lst.append((name,author,price))\n",
    "mycur.executemany(sql,lst)\n",
    "mydb.commit()\n",
    "print(mycur.rowcount,\"inserted successfully\")"
   ]
  },
  {
   "cell_type": "markdown",
   "id": "8b927d90",
   "metadata": {},
   "source": [
    "### Display database "
   ]
  },
  {
   "cell_type": "code",
   "execution_count": 9,
   "id": "6e2f6cf5",
   "metadata": {},
   "outputs": [
    {
     "name": "stdout",
     "output_type": "stream",
     "text": [
      "(1, 'let us c', 'Kanitkar', 500.0)\n",
      "(2, 'let us c', 'Kanitkar', 500.0)\n",
      "(3, 'bug finder', 'rakesh', 200.0)\n",
      "(4, 'nasa', 'amogh', 10.0)\n",
      "(5, 'vaquash Teacher', 'Nico bhai', 100.0)\n"
     ]
    }
   ],
   "source": [
    "import mysql.connector\n",
    "mydb=mysql.connector.connect( host=\"localhost\" ,user=\"root\", password=\"root\", database=\"mytest\" )\n",
    "mycur=mydb.cursor()\n",
    "mycur.execute(\"select * from book\")\n",
    "lst=mycur.fetchall()\n",
    "for l in lst:\n",
    "    print(l)\n"
   ]
  },
  {
   "cell_type": "code",
   "execution_count": 14,
   "id": "20ee3f37",
   "metadata": {},
   "outputs": [
    {
     "name": "stdout",
     "output_type": "stream",
     "text": [
      "(1, 'let us c', 'Kanitkar', 500.0)\n",
      "(2, 'let us c', 'Kanitkar', 1000.0)\n",
      "(3, 'bug finder', 'rakesh', 200.0)\n"
     ]
    }
   ],
   "source": [
    "import mysql.connector\n",
    "mydb=mysql.connector.connect( host=\"localhost\" ,user=\"root\", password=\"root\", database=\"mytest\" )\n",
    "mycur=mydb.cursor()\n",
    "mycur.execute(\"select * from book\")\n",
    "lst=mycur.fetchmany(3)\n",
    "for l in lst:\n",
    "    print(l)"
   ]
  },
  {
   "cell_type": "code",
   "execution_count": 11,
   "id": "626ceb03",
   "metadata": {},
   "outputs": [
    {
     "name": "stdout",
     "output_type": "stream",
     "text": [
      "1\n",
      "let us c\n",
      "Kanitkar\n",
      "500.0\n"
     ]
    }
   ],
   "source": [
    "import mysql.connector\n",
    "mydb=mysql.connector.connect( host=\"localhost\" ,user=\"root\", password=\"root\", database=\"mytest\" )\n",
    "mycur=mydb.cursor()\n",
    "mycur.execute(\"select * from book\")\n",
    "lst=mycur.fetchone()\n",
    "for l in lst:\n",
    "    print(l)"
   ]
  },
  {
   "cell_type": "markdown",
   "id": "09b55132",
   "metadata": {},
   "source": [
    "### Updating Records"
   ]
  },
  {
   "cell_type": "code",
   "execution_count": 15,
   "id": "8b269f35",
   "metadata": {},
   "outputs": [
    {
     "name": "stdout",
     "output_type": "stream",
     "text": [
      "1 Update successfully\n"
     ]
    }
   ],
   "source": [
    "mydb=mysql.connector.connect( host=\"localhost\" ,user=\"root\", password=\"root\", database=\"mytest\" )\n",
    "mycur=mydb.cursor()\n",
    "sql=\"Update book set price =%s where bookid=%s\"\n",
    "val=(2000,2)\n",
    "mycur.execute(sql,val)\n",
    "mydb.commit()\n",
    "print(mycur.rowcount,\"Update successfully\")"
   ]
  },
  {
   "cell_type": "markdown",
   "id": "a04c64f0",
   "metadata": {},
   "source": [
    "### Delete Records"
   ]
  },
  {
   "cell_type": "code",
   "execution_count": 17,
   "id": "dfc23899",
   "metadata": {},
   "outputs": [
    {
     "name": "stdout",
     "output_type": "stream",
     "text": [
      "1 Delete Successfully\n"
     ]
    }
   ],
   "source": [
    "mydb=mysql.connector.connect( host=\"localhost\" ,user=\"root\", password=\"root\", database=\"mytest\" )\n",
    "mycur=mydb.cursor()\n",
    "sql=\"delete from book where bookid=%s\"\n",
    "val=(3,)\n",
    "mycur.execute(sql,val)\n",
    "mydb.commit()\n",
    "print(mycur.rowcount,\"Delete Successfully\")"
   ]
  },
  {
   "cell_type": "markdown",
   "id": "4b0310e4",
   "metadata": {},
   "source": [
    "### Drop Table"
   ]
  },
  {
   "cell_type": "code",
   "execution_count": null,
   "id": "02b700e0",
   "metadata": {},
   "outputs": [],
   "source": [
    "mydb=mysql.connector.connect( host=\"localhost\" ,user=\"root\", password=\"root\", database=\"mytest\" )\n",
    "mycur=mydb.cursor()\n",
    "sql=\"drop table book\"\n",
    "mycur.execute(sql)\n",
    "print(mycur.rowcount,\"Drop Successfully\")\n",
    "mycur.close()\n",
    "mydb.close()"
   ]
  },
  {
   "cell_type": "code",
   "execution_count": null,
   "id": "65330332",
   "metadata": {},
   "outputs": [],
   "source": []
  }
 ],
 "metadata": {
  "kernelspec": {
   "display_name": "Python 3 (ipykernel)",
   "language": "python",
   "name": "python3"
  },
  "language_info": {
   "codemirror_mode": {
    "name": "ipython",
    "version": 3
   },
   "file_extension": ".py",
   "mimetype": "text/x-python",
   "name": "python",
   "nbconvert_exporter": "python",
   "pygments_lexer": "ipython3",
   "version": "3.10.9"
  }
 },
 "nbformat": 4,
 "nbformat_minor": 5
}
